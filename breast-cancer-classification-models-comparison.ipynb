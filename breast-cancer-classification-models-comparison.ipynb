{
 "cells": [
  {
   "cell_type": "markdown",
   "id": "75be24b6",
   "metadata": {},
   "source": [
    "# Breast Cancer Classification"
   ]
  },
  {
   "cell_type": "markdown",
   "id": "566bef8a",
   "metadata": {
    "papermill": {
     "duration": 0.009506,
     "end_time": "2022-06-05T06:23:32.702244",
     "exception": false,
     "start_time": "2022-06-05T06:23:32.692738",
     "status": "completed"
    },
    "tags": []
   },
   "source": [
    "# 1. Introduction\n",
    "\n",
    "* Breast cancer is the most prevalent form of cancer, accounting for 12.5% of all cancer cases in both men and women, and 25.8% of cancer cases in women. The transformation of normal cells into cancer cells occurs gradually and involves multiple stages.</br></br>\n",
    "\n",
    "* Nuclear morphometry can measure these morphological abnormalities in nuclear size, shape, and texture and correlate with tumor grades.  In this procedure, significant changes in nuclear characteristics like perimeter, radius, compactness, and concave points have been observed, demonstrating its ability to distinguish between benign and malignant cells.</br></br>\n",
    "\n",
    "* This objective tool, nuclear morphometry, is valuable in differentiating breast lesions as either benign or malignant. In conjunction with other supplementary methods such as mammography, it can aid in diagnosing the disease..</br></br>\n",
    "\n",
    "* It is worth mentioning that the grade of breast cancer is determined by comparing the cancer cells to normal breast cells. The closer the cancer cells resemble normal cells, the slower their growth rate, which leads to a more favorable prognosis.\n",
    "\n"
   ]
  },
  {
   "cell_type": "markdown",
   "id": "4c13b5b7",
   "metadata": {
    "papermill": {
     "duration": 0.008825,
     "end_time": "2022-06-05T06:23:32.736119",
     "exception": false,
     "start_time": "2022-06-05T06:23:32.727294",
     "status": "completed"
    },
    "tags": []
   },
   "source": [
    "# 2. Objective\n",
    "\n",
    "In this study, classification models were trained and tested using a breast cancer dataset that included nuclear morphometric features. The primary objective was to compare the accuracy of these models.\n",
    "\n",
    "* Decision Trees\n",
    "* SVC\n",
    "* XGBoost"
   ]
  },
  {
   "cell_type": "markdown",
   "id": "84b93789",
   "metadata": {
    "papermill": {
     "duration": 0.008306,
     "end_time": "2022-06-05T06:23:32.753056",
     "exception": false,
     "start_time": "2022-06-05T06:23:32.744750",
     "status": "completed"
    },
    "tags": []
   },
   "source": [
    "# 3. Load Data"
   ]
  },
  {
   "cell_type": "code",
   "execution_count": 96,
   "id": "7c73827f",
   "metadata": {
    "execution": {
     "iopub.execute_input": "2022-06-05T06:23:32.772282Z",
     "iopub.status.busy": "2022-06-05T06:23:32.771635Z",
     "iopub.status.idle": "2022-06-05T06:23:34.115381Z",
     "shell.execute_reply": "2022-06-05T06:23:34.114320Z"
    },
    "papermill": {
     "duration": 1.356643,
     "end_time": "2022-06-05T06:23:34.118259",
     "exception": false,
     "start_time": "2022-06-05T06:23:32.761616",
     "status": "completed"
    },
    "tags": []
   },
   "outputs": [],
   "source": [
    "# Import libraries for Data loading and Preprocessing\n",
    "import pandas as pd\n",
    "import numpy as np\n",
    "import matplotlib.pyplot as plt\n",
    "import seaborn as sns\n",
    "\n",
    "from sklearn.preprocessing import LabelEncoder, StandardScaler\n",
    "from sklearn.decomposition import PCA\n",
    "from sklearn import metrics\n",
    "from sklearn.ensemble import RandomForestClassifier\n",
    "import warnings\n",
    "\n",
    "# Disable all warnings\n",
    "warnings.filterwarnings(\"ignore\")\n",
    "\n"
   ]
  },
  {
   "cell_type": "code",
   "execution_count": 97,
   "id": "542a84dd",
   "metadata": {
    "execution": {
     "iopub.execute_input": "2022-06-05T06:23:34.137262Z",
     "iopub.status.busy": "2022-06-05T06:23:34.136885Z",
     "iopub.status.idle": "2022-06-05T06:23:34.195041Z",
     "shell.execute_reply": "2022-06-05T06:23:34.193991Z"
    },
    "papermill": {
     "duration": 0.070715,
     "end_time": "2022-06-05T06:23:34.197955",
     "exception": false,
     "start_time": "2022-06-05T06:23:34.127240",
     "status": "completed"
    },
    "tags": []
   },
   "outputs": [
    {
     "data": {
      "text/html": [
       "<div>\n",
       "<style scoped>\n",
       "    .dataframe tbody tr th:only-of-type {\n",
       "        vertical-align: middle;\n",
       "    }\n",
       "\n",
       "    .dataframe tbody tr th {\n",
       "        vertical-align: top;\n",
       "    }\n",
       "\n",
       "    .dataframe thead th {\n",
       "        text-align: right;\n",
       "    }\n",
       "</style>\n",
       "<table border=\"1\" class=\"dataframe\">\n",
       "  <thead>\n",
       "    <tr style=\"text-align: right;\">\n",
       "      <th></th>\n",
       "      <th>id</th>\n",
       "      <th>diagnosis</th>\n",
       "      <th>radius_mean</th>\n",
       "      <th>texture_mean</th>\n",
       "      <th>perimeter_mean</th>\n",
       "      <th>area_mean</th>\n",
       "      <th>smoothness_mean</th>\n",
       "      <th>compactness_mean</th>\n",
       "      <th>concavity_mean</th>\n",
       "      <th>concave_points_mean</th>\n",
       "      <th>...</th>\n",
       "      <th>radius_worst</th>\n",
       "      <th>texture_worst</th>\n",
       "      <th>perimeter_worst</th>\n",
       "      <th>area_worst</th>\n",
       "      <th>smoothness_worst</th>\n",
       "      <th>compactness_worst</th>\n",
       "      <th>concavity_worst</th>\n",
       "      <th>concave_points_worst</th>\n",
       "      <th>symmetry_worst</th>\n",
       "      <th>fractal_dimension_worst</th>\n",
       "    </tr>\n",
       "  </thead>\n",
       "  <tbody>\n",
       "    <tr>\n",
       "      <th>0</th>\n",
       "      <td>842302</td>\n",
       "      <td>M</td>\n",
       "      <td>17.99</td>\n",
       "      <td>10.38</td>\n",
       "      <td>122.80</td>\n",
       "      <td>1001.0</td>\n",
       "      <td>0.11840</td>\n",
       "      <td>0.27760</td>\n",
       "      <td>0.3001</td>\n",
       "      <td>0.14710</td>\n",
       "      <td>...</td>\n",
       "      <td>25.38</td>\n",
       "      <td>17.33</td>\n",
       "      <td>184.60</td>\n",
       "      <td>2019.0</td>\n",
       "      <td>0.1622</td>\n",
       "      <td>0.6656</td>\n",
       "      <td>0.7119</td>\n",
       "      <td>0.2654</td>\n",
       "      <td>0.4601</td>\n",
       "      <td>0.11890</td>\n",
       "    </tr>\n",
       "    <tr>\n",
       "      <th>1</th>\n",
       "      <td>842517</td>\n",
       "      <td>M</td>\n",
       "      <td>20.57</td>\n",
       "      <td>17.77</td>\n",
       "      <td>132.90</td>\n",
       "      <td>1326.0</td>\n",
       "      <td>0.08474</td>\n",
       "      <td>0.07864</td>\n",
       "      <td>0.0869</td>\n",
       "      <td>0.07017</td>\n",
       "      <td>...</td>\n",
       "      <td>24.99</td>\n",
       "      <td>23.41</td>\n",
       "      <td>158.80</td>\n",
       "      <td>1956.0</td>\n",
       "      <td>0.1238</td>\n",
       "      <td>0.1866</td>\n",
       "      <td>0.2416</td>\n",
       "      <td>0.1860</td>\n",
       "      <td>0.2750</td>\n",
       "      <td>0.08902</td>\n",
       "    </tr>\n",
       "    <tr>\n",
       "      <th>2</th>\n",
       "      <td>84300903</td>\n",
       "      <td>M</td>\n",
       "      <td>19.69</td>\n",
       "      <td>21.25</td>\n",
       "      <td>130.00</td>\n",
       "      <td>1203.0</td>\n",
       "      <td>0.10960</td>\n",
       "      <td>0.15990</td>\n",
       "      <td>0.1974</td>\n",
       "      <td>0.12790</td>\n",
       "      <td>...</td>\n",
       "      <td>23.57</td>\n",
       "      <td>25.53</td>\n",
       "      <td>152.50</td>\n",
       "      <td>1709.0</td>\n",
       "      <td>0.1444</td>\n",
       "      <td>0.4245</td>\n",
       "      <td>0.4504</td>\n",
       "      <td>0.2430</td>\n",
       "      <td>0.3613</td>\n",
       "      <td>0.08758</td>\n",
       "    </tr>\n",
       "    <tr>\n",
       "      <th>3</th>\n",
       "      <td>84348301</td>\n",
       "      <td>M</td>\n",
       "      <td>11.42</td>\n",
       "      <td>20.38</td>\n",
       "      <td>77.58</td>\n",
       "      <td>386.1</td>\n",
       "      <td>0.14250</td>\n",
       "      <td>0.28390</td>\n",
       "      <td>0.2414</td>\n",
       "      <td>0.10520</td>\n",
       "      <td>...</td>\n",
       "      <td>14.91</td>\n",
       "      <td>26.50</td>\n",
       "      <td>98.87</td>\n",
       "      <td>567.7</td>\n",
       "      <td>0.2098</td>\n",
       "      <td>0.8663</td>\n",
       "      <td>0.6869</td>\n",
       "      <td>0.2575</td>\n",
       "      <td>0.6638</td>\n",
       "      <td>0.17300</td>\n",
       "    </tr>\n",
       "    <tr>\n",
       "      <th>4</th>\n",
       "      <td>84358402</td>\n",
       "      <td>M</td>\n",
       "      <td>20.29</td>\n",
       "      <td>14.34</td>\n",
       "      <td>135.10</td>\n",
       "      <td>1297.0</td>\n",
       "      <td>0.10030</td>\n",
       "      <td>0.13280</td>\n",
       "      <td>0.1980</td>\n",
       "      <td>0.10430</td>\n",
       "      <td>...</td>\n",
       "      <td>22.54</td>\n",
       "      <td>16.67</td>\n",
       "      <td>152.20</td>\n",
       "      <td>1575.0</td>\n",
       "      <td>0.1374</td>\n",
       "      <td>0.2050</td>\n",
       "      <td>0.4000</td>\n",
       "      <td>0.1625</td>\n",
       "      <td>0.2364</td>\n",
       "      <td>0.07678</td>\n",
       "    </tr>\n",
       "  </tbody>\n",
       "</table>\n",
       "<p>5 rows × 32 columns</p>\n",
       "</div>"
      ],
      "text/plain": [
       "         id diagnosis  radius_mean  texture_mean  perimeter_mean  area_mean   \n",
       "0    842302         M        17.99         10.38          122.80     1001.0  \\\n",
       "1    842517         M        20.57         17.77          132.90     1326.0   \n",
       "2  84300903         M        19.69         21.25          130.00     1203.0   \n",
       "3  84348301         M        11.42         20.38           77.58      386.1   \n",
       "4  84358402         M        20.29         14.34          135.10     1297.0   \n",
       "\n",
       "   smoothness_mean  compactness_mean  concavity_mean  concave_points_mean   \n",
       "0          0.11840           0.27760          0.3001              0.14710  \\\n",
       "1          0.08474           0.07864          0.0869              0.07017   \n",
       "2          0.10960           0.15990          0.1974              0.12790   \n",
       "3          0.14250           0.28390          0.2414              0.10520   \n",
       "4          0.10030           0.13280          0.1980              0.10430   \n",
       "\n",
       "   ...  radius_worst  texture_worst  perimeter_worst  area_worst   \n",
       "0  ...         25.38          17.33           184.60      2019.0  \\\n",
       "1  ...         24.99          23.41           158.80      1956.0   \n",
       "2  ...         23.57          25.53           152.50      1709.0   \n",
       "3  ...         14.91          26.50            98.87       567.7   \n",
       "4  ...         22.54          16.67           152.20      1575.0   \n",
       "\n",
       "   smoothness_worst  compactness_worst  concavity_worst  concave_points_worst   \n",
       "0            0.1622             0.6656           0.7119                0.2654  \\\n",
       "1            0.1238             0.1866           0.2416                0.1860   \n",
       "2            0.1444             0.4245           0.4504                0.2430   \n",
       "3            0.2098             0.8663           0.6869                0.2575   \n",
       "4            0.1374             0.2050           0.4000                0.1625   \n",
       "\n",
       "   symmetry_worst  fractal_dimension_worst  \n",
       "0          0.4601                  0.11890  \n",
       "1          0.2750                  0.08902  \n",
       "2          0.3613                  0.08758  \n",
       "3          0.6638                  0.17300  \n",
       "4          0.2364                  0.07678  \n",
       "\n",
       "[5 rows x 32 columns]"
      ]
     },
     "execution_count": 97,
     "metadata": {},
     "output_type": "execute_result"
    }
   ],
   "source": [
    "# Load data into a pandas Dataframe\n",
    "df = pd.read_csv(\"./data.csv\", sep=\",\")\n",
    "\n",
    "# View first 5 rows in the Dataframe\n",
    "df.head()"
   ]
  },
  {
   "cell_type": "markdown",
   "id": "5d7ac2ea",
   "metadata": {
    "papermill": {
     "duration": 0.008376,
     "end_time": "2022-06-05T06:23:34.215226",
     "exception": false,
     "start_time": "2022-06-05T06:23:34.206850",
     "status": "completed"
    },
    "tags": []
   },
   "source": [
    "# 4. Data Preparation and Exploration\n",
    "\n",
    "Nuclear size, shape, and texture were represented by ten computer-generated nuclear characteristics, each of which had a corresponding mean value, worst value(largest extreme), and standard error. \n",
    "\n"
   ]
  },
  {
   "cell_type": "code",
   "execution_count": 98,
   "id": "469cc62d",
   "metadata": {},
   "outputs": [
    {
     "data": {
      "text/plain": [
       "Index(['id', 'diagnosis', 'radius_mean', 'texture_mean', 'perimeter_mean',\n",
       "       'area_mean', 'smoothness_mean', 'compactness_mean', 'concavity_mean',\n",
       "       'concave_points_mean', 'symmetry_mean', 'fractal_dimension_mean',\n",
       "       'radius_se', 'texture_se', 'perimeter_se', 'area_se', 'smoothness_se',\n",
       "       'compactness_se', 'concavity_se', 'concave_points_se', 'symmetry_se',\n",
       "       'fractal_dimension_se', 'radius_worst', 'texture_worst',\n",
       "       'perimeter_worst', 'area_worst', 'smoothness_worst',\n",
       "       'compactness_worst', 'concavity_worst', 'concave_points_worst',\n",
       "       'symmetry_worst', 'fractal_dimension_worst'],\n",
       "      dtype='object')"
      ]
     },
     "execution_count": 98,
     "metadata": {},
     "output_type": "execute_result"
    }
   ],
   "source": [
    "df.columns"
   ]
  },
  {
   "cell_type": "markdown",
   "id": "85efb046",
   "metadata": {
    "papermill": {
     "duration": 0.008415,
     "end_time": "2022-06-05T06:23:34.311433",
     "exception": false,
     "start_time": "2022-06-05T06:23:34.303018",
     "status": "completed"
    },
    "tags": []
   },
   "source": [
    "\n",
    "* The dataset consists of various columns, with \"diagnosis\" being the only column containing string/object values, while the remaining columns contain float values. The \"diagnosis\" column will be converted into numerical data type later in the code. \n",
    "\n",
    "\n",
    "* It is worth noting that there are no null values present in any of the columns, which is a tidy and complete dataset.\n",
    "\n"
   ]
  },
  {
   "cell_type": "code",
   "execution_count": 99,
   "id": "bb76ca15",
   "metadata": {},
   "outputs": [],
   "source": [
    "#drop id column\n",
    "df = df.drop([\"id\"], axis=1)"
   ]
  },
  {
   "cell_type": "markdown",
   "id": "8b2c1ea3",
   "metadata": {},
   "source": [
    "## Find the correlation between the features\n",
    "\n",
    "* In mathematics, the correlation coefficient measures the degree of linear association between two variables. The corr() function in pandas calculates the correlation coefficient based on the values in a DataFrame.\n",
    "\n",
    "* Mathematically, the correlation coefficient between two variables X and Y, denoted as r(X, Y), is calculated as follows:\n",
    "\n",
    " r(X, Y) = (Σ((Xi - X̄) * (Yi - Ȳ))) / (n * σ(X) * σ(Y))\n",
    "\n",
    ", where:\n",
    "\n",
    "- Xi and Yi are individual observations of X and Y, respectively.\n",
    "- X̄ and Ȳ are the means of X and Y, respectively.\n",
    "- σ(X) and σ(Y) are the standard deviations of X and Y, respectively.\n",
    "- n is the number of observations.\n",
    "\n",
    "The correlation coefficient ranges from -1 to 1, where:\n",
    "\n",
    "- r(X, Y) = 1 indicates a perfect positive linear relationship.\n",
    "- r(X, Y) = -1 indicates a perfect negative linear relationship.\n",
    "- r(X, Y) = 0 indicates no linear relationship between X and Y."
   ]
  },
  {
   "cell_type": "code",
   "execution_count": 100,
   "id": "d7f1cafe",
   "metadata": {},
   "outputs": [
    {
     "data": {
      "text/html": [
       "<div>\n",
       "<style scoped>\n",
       "    .dataframe tbody tr th:only-of-type {\n",
       "        vertical-align: middle;\n",
       "    }\n",
       "\n",
       "    .dataframe tbody tr th {\n",
       "        vertical-align: top;\n",
       "    }\n",
       "\n",
       "    .dataframe thead th {\n",
       "        text-align: right;\n",
       "    }\n",
       "</style>\n",
       "<table border=\"1\" class=\"dataframe\">\n",
       "  <thead>\n",
       "    <tr style=\"text-align: right;\">\n",
       "      <th></th>\n",
       "      <th></th>\n",
       "      <th>0</th>\n",
       "    </tr>\n",
       "  </thead>\n",
       "  <tbody>\n",
       "    <tr>\n",
       "      <th rowspan=\"2\" valign=\"top\">fractal_dimension_mean</th>\n",
       "      <th>radius_mean</th>\n",
       "      <td>-0.311631</td>\n",
       "    </tr>\n",
       "    <tr>\n",
       "      <th>area_mean</th>\n",
       "      <td>-0.283110</td>\n",
       "    </tr>\n",
       "    <tr>\n",
       "      <th>perimeter_mean</th>\n",
       "      <th>fractal_dimension_mean</th>\n",
       "      <td>-0.261477</td>\n",
       "    </tr>\n",
       "    <tr>\n",
       "      <th>fractal_dimension_mean</th>\n",
       "      <th>radius_worst</th>\n",
       "      <td>-0.253691</td>\n",
       "    </tr>\n",
       "    <tr>\n",
       "      <th>area_worst</th>\n",
       "      <th>fractal_dimension_mean</th>\n",
       "      <td>-0.231854</td>\n",
       "    </tr>\n",
       "    <tr>\n",
       "      <th>...</th>\n",
       "      <th>...</th>\n",
       "      <td>...</td>\n",
       "    </tr>\n",
       "    <tr>\n",
       "      <th>perimeter_mean</th>\n",
       "      <th>area_mean</th>\n",
       "      <td>0.986507</td>\n",
       "    </tr>\n",
       "    <tr>\n",
       "      <th>area_mean</th>\n",
       "      <th>radius_mean</th>\n",
       "      <td>0.987357</td>\n",
       "    </tr>\n",
       "    <tr>\n",
       "      <th>perimeter_worst</th>\n",
       "      <th>radius_worst</th>\n",
       "      <td>0.993708</td>\n",
       "    </tr>\n",
       "    <tr>\n",
       "      <th>perimeter_mean</th>\n",
       "      <th>radius_mean</th>\n",
       "      <td>0.997855</td>\n",
       "    </tr>\n",
       "    <tr>\n",
       "      <th>radius_mean</th>\n",
       "      <th>radius_mean</th>\n",
       "      <td>1.000000</td>\n",
       "    </tr>\n",
       "  </tbody>\n",
       "</table>\n",
       "<p>436 rows × 1 columns</p>\n",
       "</div>"
      ],
      "text/plain": [
       "                                                      0\n",
       "fractal_dimension_mean radius_mean            -0.311631\n",
       "                       area_mean              -0.283110\n",
       "perimeter_mean         fractal_dimension_mean -0.261477\n",
       "fractal_dimension_mean radius_worst           -0.253691\n",
       "area_worst             fractal_dimension_mean -0.231854\n",
       "...                                                 ...\n",
       "perimeter_mean         area_mean               0.986507\n",
       "area_mean              radius_mean             0.987357\n",
       "perimeter_worst        radius_worst            0.993708\n",
       "perimeter_mean         radius_mean             0.997855\n",
       "radius_mean            radius_mean             1.000000\n",
       "\n",
       "[436 rows x 1 columns]"
      ]
     },
     "execution_count": 100,
     "metadata": {},
     "output_type": "execute_result"
    }
   ],
   "source": [
    "pd.DataFrame(df.iloc[:,1:].corr().unstack().sort_values().drop_duplicates())"
   ]
  },
  {
   "cell_type": "markdown",
   "id": "89516fe6",
   "metadata": {},
   "source": [
    "### Percentage of benign and malignant diagnosis"
   ]
  },
  {
   "cell_type": "code",
   "execution_count": 101,
   "id": "d8c39888",
   "metadata": {
    "execution": {
     "iopub.execute_input": "2022-06-05T06:23:34.331024Z",
     "iopub.status.busy": "2022-06-05T06:23:34.330134Z",
     "iopub.status.idle": "2022-06-05T06:23:34.570610Z",
     "shell.execute_reply": "2022-06-05T06:23:34.569462Z"
    },
    "papermill": {
     "duration": 0.252772,
     "end_time": "2022-06-05T06:23:34.572971",
     "exception": false,
     "start_time": "2022-06-05T06:23:34.320199",
     "status": "completed"
    },
    "tags": []
   },
   "outputs": [
    {
     "data": {
      "image/png": "[encoded data removed]",
      "text/plain": [
       "<Figure size 360x432 with 1 Axes>"
      ]
     },
     "metadata": {},
     "output_type": "display_data"
    }
   ],
   "source": [
    "sns.set_theme(style=\"darkgrid\")\n",
    "\n",
    "fig, ax = plt.subplots(nrows = 1, ncols = 1, figsize = (5,6))\n",
    "\n",
    "column_name = \"diagnosis\"\n",
    "percentage_values = (df[column_name].value_counts(normalize=True) * 100).reset_index()\n",
    "\n",
    "sns.barplot(y = percentage_values[\"proportion\"].values, x=percentage_values[\"diagnosis\"].values)\n",
    "\n",
    "sns.despine()"
   ]
  },
  {
   "cell_type": "code",
   "execution_count": 102,
   "id": "a1a3e400",
   "metadata": {},
   "outputs": [
    {
     "data": {
      "text/plain": [
       "diagnosis\n",
       "B    357\n",
       "M    212\n",
       "Name: count, dtype: int64"
      ]
     },
     "execution_count": 102,
     "metadata": {},
     "output_type": "execute_result"
    }
   ],
   "source": [
    "df[\"diagnosis\"].value_counts() "
   ]
  },
  {
   "cell_type": "markdown",
   "id": "d371f1bf",
   "metadata": {
    "papermill": {
     "duration": 0.008827,
     "end_time": "2022-06-05T06:23:34.591083",
     "exception": false,
     "start_time": "2022-06-05T06:23:34.582256",
     "status": "completed"
    },
    "tags": []
   },
   "source": [
    "###### There are about 37-38% Malignant and 62-63% Benign diagnosis\n",
    "The data is imbalanced, therefore we can upsample the minority class sample with replacement to match the majority class reproducible results:\n",
    "\n"
   ]
  },
  {
   "cell_type": "code",
   "execution_count": 68,
   "id": "a8853187",
   "metadata": {},
   "outputs": [
    {
     "name": "stdout",
     "output_type": "stream",
     "text": [
      "Counter({'B': 357, 'M': 357})\n"
     ]
    }
   ],
   "source": [
    "from sklearn.utils import resample\n",
    "from collections import Counter\n",
    "\n",
    "# Balancing the imbalanced dataset \n",
    "df_majority = df[df[\"diagnosis\"] == \"B\"]\n",
    "df_minority = df[df[\"diagnosis\"] == \"M\"]\n",
    "\n",
    "# Upsample the minority class sample with replacement to \n",
    "# Match the majority class reproducible results \n",
    "df_minority_upsampled = resample(df_minority, \n",
    "                                replace = True, \n",
    "                                n_samples = 357, \n",
    "                                random_state = 123)\n",
    "\n",
    "# Combine the majority class with upsampled minority class \n",
    "df = pd.concat([df_majority, df_minority_upsampled])\n",
    "\n",
    "# Displaying the new class distribution \n",
    "counter = Counter(df[\"diagnosis\"])\n",
    "print(counter)"
   ]
  },
  {
   "cell_type": "markdown",
   "id": "fe3b120b",
   "metadata": {},
   "source": [
    "**Exclude the target column \"diagnosis\" to find the correlation between the features:**"
   ]
  },
  {
   "cell_type": "code",
   "execution_count": 103,
   "id": "be2eba1a",
   "metadata": {},
   "outputs": [],
   "source": [
    "data = df.iloc[:,1:]"
   ]
  },
  {
   "cell_type": "markdown",
   "id": "06be0043",
   "metadata": {},
   "source": [
    "### Extract the features with high positive correlation (greater than 0.9) : positive linear relationship."
   ]
  },
  {
   "cell_type": "code",
   "execution_count": 104,
   "id": "3824b71d",
   "metadata": {},
   "outputs": [
    {
     "name": "stdout",
     "output_type": "stream",
     "text": [
      "('radius_mean', 'perimeter_mean')\n",
      "('radius_mean', 'area_mean')\n",
      "('radius_mean', 'radius_worst')\n",
      "('radius_mean', 'perimeter_worst')\n",
      "('radius_mean', 'area_worst')\n",
      "('texture_mean', 'texture_worst')\n",
      "('perimeter_mean', 'radius_mean')\n",
      "('perimeter_mean', 'area_mean')\n",
      "('perimeter_mean', 'radius_worst')\n",
      "('perimeter_mean', 'perimeter_worst')\n",
      "('perimeter_mean', 'area_worst')\n",
      "('area_mean', 'radius_mean')\n",
      "('area_mean', 'perimeter_mean')\n",
      "('area_mean', 'radius_worst')\n",
      "('area_mean', 'perimeter_worst')\n",
      "('area_mean', 'area_worst')\n",
      "('concavity_mean', 'concave_points_mean')\n",
      "('concave_points_mean', 'concavity_mean')\n",
      "('concave_points_mean', 'concave_points_worst')\n",
      "('radius_se', 'perimeter_se')\n",
      "('radius_se', 'area_se')\n",
      "('perimeter_se', 'radius_se')\n",
      "('perimeter_se', 'area_se')\n",
      "('area_se', 'radius_se')\n",
      "('area_se', 'perimeter_se')\n",
      "('radius_worst', 'radius_mean')\n",
      "('radius_worst', 'perimeter_mean')\n",
      "('radius_worst', 'area_mean')\n",
      "('radius_worst', 'perimeter_worst')\n",
      "('radius_worst', 'area_worst')\n",
      "('texture_worst', 'texture_mean')\n",
      "('perimeter_worst', 'radius_mean')\n",
      "('perimeter_worst', 'perimeter_mean')\n",
      "('perimeter_worst', 'area_mean')\n",
      "('perimeter_worst', 'radius_worst')\n",
      "('perimeter_worst', 'area_worst')\n",
      "('area_worst', 'radius_mean')\n",
      "('area_worst', 'perimeter_mean')\n",
      "('area_worst', 'area_mean')\n",
      "('area_worst', 'radius_worst')\n",
      "('area_worst', 'perimeter_worst')\n",
      "('concave_points_worst', 'concave_points_mean')\n"
     ]
    }
   ],
   "source": [
    "correlation_matrix = data.corr()\n",
    "correlation_matrix = data.corr()\n",
    "\n",
    "# Find the indices of features with correlation above the threshold\n",
    "indices = np.where((correlation_matrix > 0.9) & (correlation_matrix != 1))\n",
    "# Extract the pairs of features with high correlation\n",
    "feature_pairs = []\n",
    "for i in range(len(indices[0])):\n",
    "    feature_pair = (correlation_matrix.index[indices[0][i]], correlation_matrix.columns[indices[1][i]])\n",
    "    feature_pairs.append(feature_pair)\n",
    "\n",
    "# Display the feature pairs\n",
    "for pair in feature_pairs:\n",
    "    print(pair)"
   ]
  },
  {
   "cell_type": "markdown",
   "id": "4346ae6a",
   "metadata": {
    "papermill": {
     "duration": 0.038422,
     "end_time": "2022-06-05T06:23:59.455678",
     "exception": false,
     "start_time": "2022-06-05T06:23:59.417256",
     "status": "completed"
    },
    "tags": []
   },
   "source": [
    "Let's take a closer look at some of the correlations using a Scatter Plot"
   ]
  },
  {
   "cell_type": "code",
   "execution_count": 105,
   "id": "d4d43bfa",
   "metadata": {
    "execution": {
     "iopub.execute_input": "2022-06-05T06:23:59.533025Z",
     "iopub.status.busy": "2022-06-05T06:23:59.532605Z",
     "iopub.status.idle": "2022-06-05T06:24:00.636680Z",
     "shell.execute_reply": "2022-06-05T06:24:00.635980Z"
    },
    "papermill": {
     "duration": 1.146196,
     "end_time": "2022-06-05T06:24:00.639463",
     "exception": false,
     "start_time": "2022-06-05T06:23:59.493267",
     "status": "completed"
    },
    "tags": []
   },
   "outputs": [
    {
     "data": {
      "image/png": "[encoded data removed]",
      "text/plain": [
       "<Figure size 1296x432 with 3 Axes>"
      ]
     },
     "metadata": {},
     "output_type": "display_data"
    }
   ],
   "source": [
    "#Plot scatter plots between radius_mean and area_mean, perimeter_mean, concavity_mean columns\n",
    "cols = ['area_mean','perimeter_mean', 'concavity_mean']\n",
    "fig, ax = plt.subplots(ncols=len(cols), figsize=(6 * len(cols),6), sharex = True)\n",
    "for i in range(len(cols)):\n",
    "  g = sns.scatterplot(data=df, x=\"radius_mean\", y=df[cols[i]], hue=\"diagnosis\", size = \"area_mean\", ax  = ax[i]).set_title(\"Radius_mean vs \"+cols[i])\n",
    "\n",
    "fig.subplots_adjust(wspace=0.2)"
   ]
  },
  {
   "cell_type": "markdown",
   "id": "a7ff54ae",
   "metadata": {
    "papermill": {
     "duration": 0.040268,
     "end_time": "2022-06-05T06:24:00.720838",
     "exception": false,
     "start_time": "2022-06-05T06:24:00.680570",
     "status": "completed"
    },
    "tags": []
   },
   "source": [
    "* One observation is that as the nuclear radius increases, both the area (calculated using $\\pi R^2$) and perimeter (calculated using $2 \\pi R$) increase linearly. This indicates a positive correlation between these parameters.\n",
    "\n",
    "\n",
    "* A comparison between benign and malignant cells reveals distinct differences in nuclear morphometry. Malignant cells exhibit larger nuclear areas, perimeters, and concavity compared to benign cells. This implies that these morphometric parameters can serve as distinguishing factors between benign and malignant cells, with malignant cells tending to have larger nuclear sizes. \n",
    "\n"
   ]
  },
  {
   "cell_type": "markdown",
   "id": "e2a2e872",
   "metadata": {
    "papermill": {
     "duration": 0.040213,
     "end_time": "2022-06-05T06:24:00.801326",
     "exception": false,
     "start_time": "2022-06-05T06:24:00.761113",
     "status": "completed"
    },
    "tags": []
   },
   "source": [
    "# 5. Data Preprocessing"
   ]
  },
  {
   "cell_type": "markdown",
   "id": "ce64a208",
   "metadata": {
    "papermill": {
     "duration": 0.040548,
     "end_time": "2022-06-05T06:24:00.882033",
     "exception": false,
     "start_time": "2022-06-05T06:24:00.841485",
     "status": "completed"
    },
    "tags": []
   },
   "source": [
    "**5.1 Label Encoder**\n",
    "\n",
    "It was observed that the \"diagnosis\" column is the only categorical variable in the dataset. To convert the categorical values in the \"diagnosis\" column into numerical representations, we will employ a Label Encoder. \n",
    "\n",
    "This encoding technique will assign unique numerical codes to the column values, enabling us to work with the target variable effectively in numerical form."
   ]
  },
  {
   "cell_type": "code",
   "execution_count": 106,
   "id": "3f027bac",
   "metadata": {
    "execution": {
     "iopub.execute_input": "2022-06-05T06:24:00.965388Z",
     "iopub.status.busy": "2022-06-05T06:24:00.964733Z",
     "iopub.status.idle": "2022-06-05T06:24:00.982928Z",
     "shell.execute_reply": "2022-06-05T06:24:00.981980Z"
    },
    "papermill": {
     "duration": 0.06207,
     "end_time": "2022-06-05T06:24:00.984904",
     "exception": false,
     "start_time": "2022-06-05T06:24:00.922834",
     "status": "completed"
    },
    "tags": []
   },
   "outputs": [
    {
     "data": {
      "text/html": [
       "<div>\n",
       "<style scoped>\n",
       "    .dataframe tbody tr th:only-of-type {\n",
       "        vertical-align: middle;\n",
       "    }\n",
       "\n",
       "    .dataframe tbody tr th {\n",
       "        vertical-align: top;\n",
       "    }\n",
       "\n",
       "    .dataframe thead th {\n",
       "        text-align: right;\n",
       "    }\n",
       "</style>\n",
       "<table border=\"1\" class=\"dataframe\">\n",
       "  <thead>\n",
       "    <tr style=\"text-align: right;\">\n",
       "      <th></th>\n",
       "      <th>diagnosis</th>\n",
       "      <th>radius_mean</th>\n",
       "      <th>texture_mean</th>\n",
       "      <th>perimeter_mean</th>\n",
       "      <th>area_mean</th>\n",
       "      <th>smoothness_mean</th>\n",
       "      <th>compactness_mean</th>\n",
       "      <th>concavity_mean</th>\n",
       "      <th>concave_points_mean</th>\n",
       "      <th>symmetry_mean</th>\n",
       "      <th>...</th>\n",
       "      <th>radius_worst</th>\n",
       "      <th>texture_worst</th>\n",
       "      <th>perimeter_worst</th>\n",
       "      <th>area_worst</th>\n",
       "      <th>smoothness_worst</th>\n",
       "      <th>compactness_worst</th>\n",
       "      <th>concavity_worst</th>\n",
       "      <th>concave_points_worst</th>\n",
       "      <th>symmetry_worst</th>\n",
       "      <th>fractal_dimension_worst</th>\n",
       "    </tr>\n",
       "  </thead>\n",
       "  <tbody>\n",
       "    <tr>\n",
       "      <th>0</th>\n",
       "      <td>1</td>\n",
       "      <td>17.99</td>\n",
       "      <td>10.38</td>\n",
       "      <td>122.80</td>\n",
       "      <td>1001.0</td>\n",
       "      <td>0.11840</td>\n",
       "      <td>0.27760</td>\n",
       "      <td>0.3001</td>\n",
       "      <td>0.14710</td>\n",
       "      <td>0.2419</td>\n",
       "      <td>...</td>\n",
       "      <td>25.38</td>\n",
       "      <td>17.33</td>\n",
       "      <td>184.60</td>\n",
       "      <td>2019.0</td>\n",
       "      <td>0.1622</td>\n",
       "      <td>0.6656</td>\n",
       "      <td>0.7119</td>\n",
       "      <td>0.2654</td>\n",
       "      <td>0.4601</td>\n",
       "      <td>0.11890</td>\n",
       "    </tr>\n",
       "    <tr>\n",
       "      <th>1</th>\n",
       "      <td>1</td>\n",
       "      <td>20.57</td>\n",
       "      <td>17.77</td>\n",
       "      <td>132.90</td>\n",
       "      <td>1326.0</td>\n",
       "      <td>0.08474</td>\n",
       "      <td>0.07864</td>\n",
       "      <td>0.0869</td>\n",
       "      <td>0.07017</td>\n",
       "      <td>0.1812</td>\n",
       "      <td>...</td>\n",
       "      <td>24.99</td>\n",
       "      <td>23.41</td>\n",
       "      <td>158.80</td>\n",
       "      <td>1956.0</td>\n",
       "      <td>0.1238</td>\n",
       "      <td>0.1866</td>\n",
       "      <td>0.2416</td>\n",
       "      <td>0.1860</td>\n",
       "      <td>0.2750</td>\n",
       "      <td>0.08902</td>\n",
       "    </tr>\n",
       "    <tr>\n",
       "      <th>2</th>\n",
       "      <td>1</td>\n",
       "      <td>19.69</td>\n",
       "      <td>21.25</td>\n",
       "      <td>130.00</td>\n",
       "      <td>1203.0</td>\n",
       "      <td>0.10960</td>\n",
       "      <td>0.15990</td>\n",
       "      <td>0.1974</td>\n",
       "      <td>0.12790</td>\n",
       "      <td>0.2069</td>\n",
       "      <td>...</td>\n",
       "      <td>23.57</td>\n",
       "      <td>25.53</td>\n",
       "      <td>152.50</td>\n",
       "      <td>1709.0</td>\n",
       "      <td>0.1444</td>\n",
       "      <td>0.4245</td>\n",
       "      <td>0.4504</td>\n",
       "      <td>0.2430</td>\n",
       "      <td>0.3613</td>\n",
       "      <td>0.08758</td>\n",
       "    </tr>\n",
       "    <tr>\n",
       "      <th>3</th>\n",
       "      <td>1</td>\n",
       "      <td>11.42</td>\n",
       "      <td>20.38</td>\n",
       "      <td>77.58</td>\n",
       "      <td>386.1</td>\n",
       "      <td>0.14250</td>\n",
       "      <td>0.28390</td>\n",
       "      <td>0.2414</td>\n",
       "      <td>0.10520</td>\n",
       "      <td>0.2597</td>\n",
       "      <td>...</td>\n",
       "      <td>14.91</td>\n",
       "      <td>26.50</td>\n",
       "      <td>98.87</td>\n",
       "      <td>567.7</td>\n",
       "      <td>0.2098</td>\n",
       "      <td>0.8663</td>\n",
       "      <td>0.6869</td>\n",
       "      <td>0.2575</td>\n",
       "      <td>0.6638</td>\n",
       "      <td>0.17300</td>\n",
       "    </tr>\n",
       "    <tr>\n",
       "      <th>4</th>\n",
       "      <td>1</td>\n",
       "      <td>20.29</td>\n",
       "      <td>14.34</td>\n",
       "      <td>135.10</td>\n",
       "      <td>1297.0</td>\n",
       "      <td>0.10030</td>\n",
       "      <td>0.13280</td>\n",
       "      <td>0.1980</td>\n",
       "      <td>0.10430</td>\n",
       "      <td>0.1809</td>\n",
       "      <td>...</td>\n",
       "      <td>22.54</td>\n",
       "      <td>16.67</td>\n",
       "      <td>152.20</td>\n",
       "      <td>1575.0</td>\n",
       "      <td>0.1374</td>\n",
       "      <td>0.2050</td>\n",
       "      <td>0.4000</td>\n",
       "      <td>0.1625</td>\n",
       "      <td>0.2364</td>\n",
       "      <td>0.07678</td>\n",
       "    </tr>\n",
       "  </tbody>\n",
       "</table>\n",
       "<p>5 rows × 31 columns</p>\n",
       "</div>"
      ],
      "text/plain": [
       "   diagnosis  radius_mean  texture_mean  perimeter_mean  area_mean   \n",
       "0          1        17.99         10.38          122.80     1001.0  \\\n",
       "1          1        20.57         17.77          132.90     1326.0   \n",
       "2          1        19.69         21.25          130.00     1203.0   \n",
       "3          1        11.42         20.38           77.58      386.1   \n",
       "4          1        20.29         14.34          135.10     1297.0   \n",
       "\n",
       "   smoothness_mean  compactness_mean  concavity_mean  concave_points_mean   \n",
       "0          0.11840           0.27760          0.3001              0.14710  \\\n",
       "1          0.08474           0.07864          0.0869              0.07017   \n",
       "2          0.10960           0.15990          0.1974              0.12790   \n",
       "3          0.14250           0.28390          0.2414              0.10520   \n",
       "4          0.10030           0.13280          0.1980              0.10430   \n",
       "\n",
       "   symmetry_mean  ...  radius_worst  texture_worst  perimeter_worst   \n",
       "0         0.2419  ...         25.38          17.33           184.60  \\\n",
       "1         0.1812  ...         24.99          23.41           158.80   \n",
       "2         0.2069  ...         23.57          25.53           152.50   \n",
       "3         0.2597  ...         14.91          26.50            98.87   \n",
       "4         0.1809  ...         22.54          16.67           152.20   \n",
       "\n",
       "   area_worst  smoothness_worst  compactness_worst  concavity_worst   \n",
       "0      2019.0            0.1622             0.6656           0.7119  \\\n",
       "1      1956.0            0.1238             0.1866           0.2416   \n",
       "2      1709.0            0.1444             0.4245           0.4504   \n",
       "3       567.7            0.2098             0.8663           0.6869   \n",
       "4      1575.0            0.1374             0.2050           0.4000   \n",
       "\n",
       "   concave_points_worst  symmetry_worst  fractal_dimension_worst  \n",
       "0                0.2654          0.4601                  0.11890  \n",
       "1                0.1860          0.2750                  0.08902  \n",
       "2                0.2430          0.3613                  0.08758  \n",
       "3                0.2575          0.6638                  0.17300  \n",
       "4                0.1625          0.2364                  0.07678  \n",
       "\n",
       "[5 rows x 31 columns]"
      ]
     },
     "execution_count": 106,
     "metadata": {},
     "output_type": "execute_result"
    }
   ],
   "source": [
    "encoder = LabelEncoder()\n",
    "# Apply encoder on column 'diagnosis'\n",
    "df['diagnosis'] = df[['diagnosis']].apply(encoder.fit_transform)\n",
    "df.head()"
   ]
  },
  {
   "cell_type": "markdown",
   "id": "b5808c5d",
   "metadata": {
    "papermill": {
     "duration": 0.040126,
     "end_time": "2022-06-05T06:24:01.064977",
     "exception": false,
     "start_time": "2022-06-05T06:24:01.024851",
     "status": "completed"
    },
    "tags": []
   },
   "source": [
    "**'diagnosis' has been converted into values '1' for Malignant and '0' for Benign.**\n"
   ]
  },
  {
   "cell_type": "markdown",
   "id": "ca1aeeae",
   "metadata": {},
   "source": [
    "### Divide dataset into feature variables and target variable as X & y respectively."
   ]
  },
  {
   "cell_type": "markdown",
   "id": "bb07cce0",
   "metadata": {
    "papermill": {
     "duration": 0.040274,
     "end_time": "2022-06-05T06:24:01.145960",
     "exception": false,
     "start_time": "2022-06-05T06:24:01.105686",
     "status": "completed"
    },
    "tags": []
   },
   "source": [
    "**5.2 Create X and y variable sets**"
   ]
  },
  {
   "cell_type": "code",
   "execution_count": 107,
   "id": "12a1512f",
   "metadata": {
    "execution": {
     "iopub.execute_input": "2022-06-05T06:24:01.229060Z",
     "iopub.status.busy": "2022-06-05T06:24:01.228617Z",
     "iopub.status.idle": "2022-06-05T06:24:01.236337Z",
     "shell.execute_reply": "2022-06-05T06:24:01.235300Z"
    },
    "papermill": {
     "duration": 0.052126,
     "end_time": "2022-06-05T06:24:01.238526",
     "exception": false,
     "start_time": "2022-06-05T06:24:01.186400",
     "status": "completed"
    },
    "tags": []
   },
   "outputs": [],
   "source": [
    "# Take copy of the dataset\n",
    "df_copy = df.copy(deep = True)\n",
    "\n",
    "# Create X (feature set) and y (target) variables\n",
    "X = df.drop(['diagnosis'],axis=1)\n",
    "y = df['diagnosis'].to_frame()\n",
    "\n",
    "# Create X_copy variable\n",
    "X_copy = df_copy.drop(['diagnosis'],axis=1)"
   ]
  },
  {
   "cell_type": "code",
   "execution_count": 108,
   "id": "5654f488",
   "metadata": {
    "execution": {
     "iopub.execute_input": "2022-06-05T06:24:01.320220Z",
     "iopub.status.busy": "2022-06-05T06:24:01.319798Z",
     "iopub.status.idle": "2022-06-05T06:24:01.335739Z",
     "shell.execute_reply": "2022-06-05T06:24:01.334812Z"
    },
    "papermill": {
     "duration": 0.059714,
     "end_time": "2022-06-05T06:24:01.337721",
     "exception": false,
     "start_time": "2022-06-05T06:24:01.278007",
     "status": "completed"
    },
    "tags": []
   },
   "outputs": [
    {
     "data": {
      "text/html": [
       "<div>\n",
       "<style scoped>\n",
       "    .dataframe tbody tr th:only-of-type {\n",
       "        vertical-align: middle;\n",
       "    }\n",
       "\n",
       "    .dataframe tbody tr th {\n",
       "        vertical-align: top;\n",
       "    }\n",
       "\n",
       "    .dataframe thead th {\n",
       "        text-align: right;\n",
       "    }\n",
       "</style>\n",
       "<table border=\"1\" class=\"dataframe\">\n",
       "  <thead>\n",
       "    <tr style=\"text-align: right;\">\n",
       "      <th></th>\n",
       "      <th>diagnosis</th>\n",
       "      <th>radius_mean</th>\n",
       "      <th>texture_mean</th>\n",
       "      <th>perimeter_mean</th>\n",
       "      <th>area_mean</th>\n",
       "      <th>smoothness_mean</th>\n",
       "      <th>compactness_mean</th>\n",
       "      <th>concavity_mean</th>\n",
       "      <th>concave_points_mean</th>\n",
       "      <th>symmetry_mean</th>\n",
       "      <th>...</th>\n",
       "      <th>radius_worst</th>\n",
       "      <th>texture_worst</th>\n",
       "      <th>perimeter_worst</th>\n",
       "      <th>area_worst</th>\n",
       "      <th>smoothness_worst</th>\n",
       "      <th>compactness_worst</th>\n",
       "      <th>concavity_worst</th>\n",
       "      <th>concave_points_worst</th>\n",
       "      <th>symmetry_worst</th>\n",
       "      <th>fractal_dimension_worst</th>\n",
       "    </tr>\n",
       "  </thead>\n",
       "  <tbody>\n",
       "    <tr>\n",
       "      <th>0</th>\n",
       "      <td>1</td>\n",
       "      <td>17.99</td>\n",
       "      <td>10.38</td>\n",
       "      <td>122.80</td>\n",
       "      <td>1001.0</td>\n",
       "      <td>0.11840</td>\n",
       "      <td>0.27760</td>\n",
       "      <td>0.3001</td>\n",
       "      <td>0.14710</td>\n",
       "      <td>0.2419</td>\n",
       "      <td>...</td>\n",
       "      <td>25.38</td>\n",
       "      <td>17.33</td>\n",
       "      <td>184.60</td>\n",
       "      <td>2019.0</td>\n",
       "      <td>0.1622</td>\n",
       "      <td>0.6656</td>\n",
       "      <td>0.7119</td>\n",
       "      <td>0.2654</td>\n",
       "      <td>0.4601</td>\n",
       "      <td>0.11890</td>\n",
       "    </tr>\n",
       "    <tr>\n",
       "      <th>1</th>\n",
       "      <td>1</td>\n",
       "      <td>20.57</td>\n",
       "      <td>17.77</td>\n",
       "      <td>132.90</td>\n",
       "      <td>1326.0</td>\n",
       "      <td>0.08474</td>\n",
       "      <td>0.07864</td>\n",
       "      <td>0.0869</td>\n",
       "      <td>0.07017</td>\n",
       "      <td>0.1812</td>\n",
       "      <td>...</td>\n",
       "      <td>24.99</td>\n",
       "      <td>23.41</td>\n",
       "      <td>158.80</td>\n",
       "      <td>1956.0</td>\n",
       "      <td>0.1238</td>\n",
       "      <td>0.1866</td>\n",
       "      <td>0.2416</td>\n",
       "      <td>0.1860</td>\n",
       "      <td>0.2750</td>\n",
       "      <td>0.08902</td>\n",
       "    </tr>\n",
       "    <tr>\n",
       "      <th>2</th>\n",
       "      <td>1</td>\n",
       "      <td>19.69</td>\n",
       "      <td>21.25</td>\n",
       "      <td>130.00</td>\n",
       "      <td>1203.0</td>\n",
       "      <td>0.10960</td>\n",
       "      <td>0.15990</td>\n",
       "      <td>0.1974</td>\n",
       "      <td>0.12790</td>\n",
       "      <td>0.2069</td>\n",
       "      <td>...</td>\n",
       "      <td>23.57</td>\n",
       "      <td>25.53</td>\n",
       "      <td>152.50</td>\n",
       "      <td>1709.0</td>\n",
       "      <td>0.1444</td>\n",
       "      <td>0.4245</td>\n",
       "      <td>0.4504</td>\n",
       "      <td>0.2430</td>\n",
       "      <td>0.3613</td>\n",
       "      <td>0.08758</td>\n",
       "    </tr>\n",
       "    <tr>\n",
       "      <th>3</th>\n",
       "      <td>1</td>\n",
       "      <td>11.42</td>\n",
       "      <td>20.38</td>\n",
       "      <td>77.58</td>\n",
       "      <td>386.1</td>\n",
       "      <td>0.14250</td>\n",
       "      <td>0.28390</td>\n",
       "      <td>0.2414</td>\n",
       "      <td>0.10520</td>\n",
       "      <td>0.2597</td>\n",
       "      <td>...</td>\n",
       "      <td>14.91</td>\n",
       "      <td>26.50</td>\n",
       "      <td>98.87</td>\n",
       "      <td>567.7</td>\n",
       "      <td>0.2098</td>\n",
       "      <td>0.8663</td>\n",
       "      <td>0.6869</td>\n",
       "      <td>0.2575</td>\n",
       "      <td>0.6638</td>\n",
       "      <td>0.17300</td>\n",
       "    </tr>\n",
       "    <tr>\n",
       "      <th>4</th>\n",
       "      <td>1</td>\n",
       "      <td>20.29</td>\n",
       "      <td>14.34</td>\n",
       "      <td>135.10</td>\n",
       "      <td>1297.0</td>\n",
       "      <td>0.10030</td>\n",
       "      <td>0.13280</td>\n",
       "      <td>0.1980</td>\n",
       "      <td>0.10430</td>\n",
       "      <td>0.1809</td>\n",
       "      <td>...</td>\n",
       "      <td>22.54</td>\n",
       "      <td>16.67</td>\n",
       "      <td>152.20</td>\n",
       "      <td>1575.0</td>\n",
       "      <td>0.1374</td>\n",
       "      <td>0.2050</td>\n",
       "      <td>0.4000</td>\n",
       "      <td>0.1625</td>\n",
       "      <td>0.2364</td>\n",
       "      <td>0.07678</td>\n",
       "    </tr>\n",
       "  </tbody>\n",
       "</table>\n",
       "<p>5 rows × 31 columns</p>\n",
       "</div>"
      ],
      "text/plain": [
       "   diagnosis  radius_mean  texture_mean  perimeter_mean  area_mean   \n",
       "0          1        17.99         10.38          122.80     1001.0  \\\n",
       "1          1        20.57         17.77          132.90     1326.0   \n",
       "2          1        19.69         21.25          130.00     1203.0   \n",
       "3          1        11.42         20.38           77.58      386.1   \n",
       "4          1        20.29         14.34          135.10     1297.0   \n",
       "\n",
       "   smoothness_mean  compactness_mean  concavity_mean  concave_points_mean   \n",
       "0          0.11840           0.27760          0.3001              0.14710  \\\n",
       "1          0.08474           0.07864          0.0869              0.07017   \n",
       "2          0.10960           0.15990          0.1974              0.12790   \n",
       "3          0.14250           0.28390          0.2414              0.10520   \n",
       "4          0.10030           0.13280          0.1980              0.10430   \n",
       "\n",
       "   symmetry_mean  ...  radius_worst  texture_worst  perimeter_worst   \n",
       "0         0.2419  ...         25.38          17.33           184.60  \\\n",
       "1         0.1812  ...         24.99          23.41           158.80   \n",
       "2         0.2069  ...         23.57          25.53           152.50   \n",
       "3         0.2597  ...         14.91          26.50            98.87   \n",
       "4         0.1809  ...         22.54          16.67           152.20   \n",
       "\n",
       "   area_worst  smoothness_worst  compactness_worst  concavity_worst   \n",
       "0      2019.0            0.1622             0.6656           0.7119  \\\n",
       "1      1956.0            0.1238             0.1866           0.2416   \n",
       "2      1709.0            0.1444             0.4245           0.4504   \n",
       "3       567.7            0.2098             0.8663           0.6869   \n",
       "4      1575.0            0.1374             0.2050           0.4000   \n",
       "\n",
       "   concave_points_worst  symmetry_worst  fractal_dimension_worst  \n",
       "0                0.2654          0.4601                  0.11890  \n",
       "1                0.1860          0.2750                  0.08902  \n",
       "2                0.2430          0.3613                  0.08758  \n",
       "3                0.2575          0.6638                  0.17300  \n",
       "4                0.1625          0.2364                  0.07678  \n",
       "\n",
       "[5 rows x 31 columns]"
      ]
     },
     "execution_count": 108,
     "metadata": {},
     "output_type": "execute_result"
    }
   ],
   "source": [
    "df_copy.head()"
   ]
  },
  {
   "cell_type": "markdown",
   "id": "b04175e8",
   "metadata": {
    "papermill": {
     "duration": 0.040464,
     "end_time": "2022-06-05T06:24:01.417924",
     "exception": false,
     "start_time": "2022-06-05T06:24:01.377460",
     "status": "completed"
    },
    "tags": []
   },
   "source": [
    "**5.3 Feature Scaling**"
   ]
  },
  {
   "cell_type": "markdown",
   "id": "288bf616",
   "metadata": {
    "papermill": {
     "duration": 0.040495,
     "end_time": "2022-06-05T06:24:01.498993",
     "exception": false,
     "start_time": "2022-06-05T06:24:01.458498",
     "status": "completed"
    },
    "tags": []
   },
   "source": [
    "Apply Standard Scaler to feature variable set X_copy"
   ]
  },
  {
   "cell_type": "code",
   "execution_count": 109,
   "id": "3a66ea52",
   "metadata": {
    "execution": {
     "iopub.execute_input": "2022-06-05T06:24:01.582402Z",
     "iopub.status.busy": "2022-06-05T06:24:01.581721Z",
     "iopub.status.idle": "2022-06-05T06:24:01.590846Z",
     "shell.execute_reply": "2022-06-05T06:24:01.589804Z"
    },
    "papermill": {
     "duration": 0.053776,
     "end_time": "2022-06-05T06:24:01.593320",
     "exception": false,
     "start_time": "2022-06-05T06:24:01.539544",
     "status": "completed"
    },
    "tags": []
   },
   "outputs": [],
   "source": [
    "# Instantiate Stander Scaler and fit and tranform feature variable set X\n",
    "scaler = StandardScaler(copy = True, with_mean = True, with_std = True)\n",
    "X_copy_scaled = pd.DataFrame(scaler.fit_transform(X_copy), columns=X_copy.columns)"
   ]
  },
  {
   "cell_type": "markdown",
   "id": "5f05543d",
   "metadata": {
    "papermill": {
     "duration": 0.041208,
     "end_time": "2022-06-05T06:24:01.675164",
     "exception": false,
     "start_time": "2022-06-05T06:24:01.633956",
     "status": "completed"
    },
    "tags": []
   },
   "source": [
    "**5.4 Dimensionality Reduction using PCA**\n",
    "\n",
    "Principal Component Analysis (PCA) is a method used to decrease the number of variables while preserving most of the important information. . It transforms a number of variables that may be correlated into a smaller number of uncorrelated variables, known as principal components.\n",
    "\n",
    "The primary aim of PCA is to simplify the features of your model by using fewer components. This simplification aids in visualizing patterns in your data and improves the speed of your model. Additionally, PCA reduces the risk of overfitting your model by eliminating highly correlated features.\n",
    "\n",
    "We reduce dimensions on the scaled dataset using PCA with 90% explained variance. Explained variance is a measure of how much of the total variance in a dataset can be explained by a particular model. It is a measure used to evaluate how well a model fits the data. It is calculated by taking the ratio of the variance explained by the model to the total variance of the data. A higher explained variance indicates that the model is capturing more of the underlying structure of the data.\n",
    "    "
   ]
  },
  {
   "cell_type": "code",
   "execution_count": 124,
   "id": "aa77575d",
   "metadata": {
    "execution": {
     "iopub.execute_input": "2022-06-05T06:24:02.649857Z",
     "iopub.status.busy": "2022-06-05T06:24:02.649197Z",
     "iopub.status.idle": "2022-06-05T06:24:02.675514Z",
     "shell.execute_reply": "2022-06-05T06:24:02.674779Z"
    },
    "papermill": {
     "duration": 0.072737,
     "end_time": "2022-06-05T06:24:02.677378",
     "exception": false,
     "start_time": "2022-06-05T06:24:02.604641",
     "status": "completed"
    },
    "tags": []
   },
   "outputs": [
    {
     "data": {
      "text/html": [
       "<div>\n",
       "<style scoped>\n",
       "    .dataframe tbody tr th:only-of-type {\n",
       "        vertical-align: middle;\n",
       "    }\n",
       "\n",
       "    .dataframe tbody tr th {\n",
       "        vertical-align: top;\n",
       "    }\n",
       "\n",
       "    .dataframe thead th {\n",
       "        text-align: right;\n",
       "    }\n",
       "</style>\n",
       "<table border=\"1\" class=\"dataframe\">\n",
       "  <thead>\n",
       "    <tr style=\"text-align: right;\">\n",
       "      <th></th>\n",
       "      <th>0</th>\n",
       "      <th>1</th>\n",
       "      <th>2</th>\n",
       "      <th>3</th>\n",
       "      <th>4</th>\n",
       "      <th>5</th>\n",
       "    </tr>\n",
       "  </thead>\n",
       "  <tbody>\n",
       "    <tr>\n",
       "      <th>0</th>\n",
       "      <td>9.192837</td>\n",
       "      <td>1.948583</td>\n",
       "      <td>-1.123166</td>\n",
       "      <td>3.633731</td>\n",
       "      <td>-1.195110</td>\n",
       "      <td>1.411424</td>\n",
       "    </tr>\n",
       "    <tr>\n",
       "      <th>1</th>\n",
       "      <td>2.387802</td>\n",
       "      <td>-3.768172</td>\n",
       "      <td>-0.529293</td>\n",
       "      <td>1.118264</td>\n",
       "      <td>0.621775</td>\n",
       "      <td>0.028656</td>\n",
       "    </tr>\n",
       "    <tr>\n",
       "      <th>2</th>\n",
       "      <td>5.733896</td>\n",
       "      <td>-1.075174</td>\n",
       "      <td>-0.551748</td>\n",
       "      <td>0.912083</td>\n",
       "      <td>-0.177086</td>\n",
       "      <td>0.541452</td>\n",
       "    </tr>\n",
       "    <tr>\n",
       "      <th>3</th>\n",
       "      <td>7.122953</td>\n",
       "      <td>10.275589</td>\n",
       "      <td>-3.232790</td>\n",
       "      <td>0.152547</td>\n",
       "      <td>-2.960878</td>\n",
       "      <td>3.053422</td>\n",
       "    </tr>\n",
       "    <tr>\n",
       "      <th>4</th>\n",
       "      <td>3.935302</td>\n",
       "      <td>-1.948072</td>\n",
       "      <td>1.389767</td>\n",
       "      <td>2.940639</td>\n",
       "      <td>0.546747</td>\n",
       "      <td>-1.226495</td>\n",
       "    </tr>\n",
       "  </tbody>\n",
       "</table>\n",
       "</div>"
      ],
      "text/plain": [
       "          0          1         2         3         4         5\n",
       "0  9.192837   1.948583 -1.123166  3.633731 -1.195110  1.411424\n",
       "1  2.387802  -3.768172 -0.529293  1.118264  0.621775  0.028656\n",
       "2  5.733896  -1.075174 -0.551748  0.912083 -0.177086  0.541452\n",
       "3  7.122953  10.275589 -3.232790  0.152547 -2.960878  3.053422\n",
       "4  3.935302  -1.948072  1.389767  2.940639  0.546747 -1.226495"
      ]
     },
     "execution_count": 124,
     "metadata": {},
     "output_type": "execute_result"
    }
   ],
   "source": [
    "# Reduce dimensions on the scaled dataset using PCA with 95% variance retained\n",
    "pca = PCA(n_components = 0.95)\n",
    "pca.fit(X_copy_scaled)\n",
    "X_copy_scaled = pca.transform(X_copy_scaled)\n",
    "X_copy_scaled = pd.DataFrame(X_copy_scaled)\n",
    "X_copy_scaled.head()"
   ]
  },
  {
   "cell_type": "markdown",
   "id": "1199f48d",
   "metadata": {},
   "source": [
    "There are 7 components that explain the 90% of the explained variance in our data. "
   ]
  },
  {
   "cell_type": "markdown",
   "id": "64cdd44d",
   "metadata": {
    "papermill": {
     "duration": 0.042814,
     "end_time": "2022-06-05T06:24:02.762148",
     "exception": false,
     "start_time": "2022-06-05T06:24:02.719334",
     "status": "completed"
    },
    "tags": []
   },
   "source": [
    "# 6. Model Training and Prediction"
   ]
  },
  {
   "cell_type": "code",
   "execution_count": 125,
   "id": "b19da8b9",
   "metadata": {
    "execution": {
     "iopub.execute_input": "2022-06-05T06:24:02.850372Z",
     "iopub.status.busy": "2022-06-05T06:24:02.849726Z",
     "iopub.status.idle": "2022-06-05T06:24:03.051915Z",
     "shell.execute_reply": "2022-06-05T06:24:03.051150Z"
    },
    "papermill": {
     "duration": 0.24889,
     "end_time": "2022-06-05T06:24:03.053980",
     "exception": false,
     "start_time": "2022-06-05T06:24:02.805090",
     "status": "completed"
    },
    "tags": []
   },
   "outputs": [],
   "source": [
    "# Import libraries for Model training, prediction and evaluation\n",
    "from sklearn.tree import DecisionTreeClassifier\n",
    "from sklearn.svm import SVC\n",
    "from sklearn.metrics import accuracy_score, confusion_matrix, ConfusionMatrixDisplay\n",
    "from sklearn.model_selection import RandomizedSearchCV, cross_val_score\n",
    "from sklearn.model_selection import train_test_split\n",
    "import xgboost as xgb\n",
    "from sklearn.linear_model import LogisticRegression\n",
    "from sklearn.ensemble import RandomForestClassifier\n",
    "\n",
    "#The accuracy_score function is a part of the scikit-learn library in\n",
    "#Python, and it is used to calculate the accuracy of classification\n",
    "#models. It compares the predicted labels of a classification model \n",
    "#with the true labels and returns the accuracy score."
   ]
  },
  {
   "cell_type": "markdown",
   "id": "777fe9d2",
   "metadata": {
    "papermill": {
     "duration": 0.042724,
     "end_time": "2022-06-05T06:24:03.138816",
     "exception": false,
     "start_time": "2022-06-05T06:24:03.096092",
     "status": "completed"
    },
    "tags": []
   },
   "source": [
    "**6.1 Split Data into Train and Test Sets**"
   ]
  },
  {
   "cell_type": "code",
   "execution_count": 126,
   "id": "af53cd17",
   "metadata": {
    "execution": {
     "iopub.execute_input": "2022-06-05T06:24:03.226280Z",
     "iopub.status.busy": "2022-06-05T06:24:03.225665Z",
     "iopub.status.idle": "2022-06-05T06:24:03.232484Z",
     "shell.execute_reply": "2022-06-05T06:24:03.231851Z"
    },
    "papermill": {
     "duration": 0.052954,
     "end_time": "2022-06-05T06:24:03.234370",
     "exception": false,
     "start_time": "2022-06-05T06:24:03.181416",
     "status": "completed"
    },
    "tags": []
   },
   "outputs": [],
   "source": [
    "# Split Data into Train and Test sets with 80% of data as Train set and 20% as Test set\n",
    "X_train, X_test, y_train, y_test = train_test_split(X, y, test_size = 0.2, random_state=0)\n",
    "\n",
    "X_train_scaled, X_test_scaled, y_train_scaled, y_test_scaled = train_test_split(X_copy_scaled, y, test_size = 0.2, random_state=0)"
   ]
  },
  {
   "cell_type": "markdown",
   "id": "27915958",
   "metadata": {
    "papermill": {
     "duration": 0.042827,
     "end_time": "2022-06-05T06:24:03.412142",
     "exception": false,
     "start_time": "2022-06-05T06:24:03.369315",
     "status": "completed"
    },
    "tags": []
   },
   "source": [
    "**6.2 Decision Tree**\n"
   ]
  },
  {
   "cell_type": "code",
   "execution_count": 166,
   "id": "c45fe791",
   "metadata": {
    "execution": {
     "iopub.execute_input": "2022-06-05T06:24:03.499731Z",
     "iopub.status.busy": "2022-06-05T06:24:03.499288Z",
     "iopub.status.idle": "2022-06-05T06:24:03.513529Z",
     "shell.execute_reply": "2022-06-05T06:24:03.512282Z"
    },
    "papermill": {
     "duration": 0.06046,
     "end_time": "2022-06-05T06:24:03.515549",
     "exception": false,
     "start_time": "2022-06-05T06:24:03.455089",
     "status": "completed"
    },
    "tags": []
   },
   "outputs": [
    {
     "name": "stdout",
     "output_type": "stream",
     "text": [
      "Model:  DecisionTreeClassifier\n",
      "Test Data AUC: 0.976\n"
     ]
    },
    {
     "data": {
      "image/png": "[encoded data removed]",
      "text/plain": [
       "<Figure size 432x288 with 1 Axes>"
      ]
     },
     "metadata": {},
     "output_type": "display_data"
    }
   ],
   "source": [
    "# Train and fit Decision Tree classifier\n",
    "\n",
    "clf_dct = DecisionTreeClassifier(max_depth=2)\n",
    "clf_dct.fit(X_train,np.ravel(y_train))\n",
    "y_pred_dct = clf_dct.predict(X_test)\n",
    "#pull the probabilities of having a heart disease\n",
    "y_pred_proba_dct= clf_dct.predict_proba(X_test)[::,1]\n",
    "fpr, tpr, _ = metrics.roc_curve(y_test,  y_pred_proba_dct) \n",
    "auc_dct = metrics.roc_auc_score(y_test, y_pred_proba_dct).round(5) #calculate the area under the curve (AUC)\n",
    "plt.plot(fpr,tpr,label=\"1-tree auc=\"+str(auc_dct),color='red') #generate the ROC curve\n",
    "plt.legend(loc=4) #position the label in the bottom right corner\n",
    "\n",
    "print(\"Model: \",type(clf_dct).__name__)\n",
    "print(\"Test Data AUC: %0.3f\" % auc_dct)"
   ]
  },
  {
   "cell_type": "code",
   "execution_count": 165,
   "id": "5f906dc3",
   "metadata": {},
   "outputs": [
    {
     "name": "stdout",
     "output_type": "stream",
     "text": [
      "0.9777777777777777\n"
     ]
    }
   ],
   "source": [
    "\n",
    "#Evaluation \n",
    "from sklearn.metrics import precision_score\n",
    "print(precision_score(y_test,y_pred_dct))"
   ]
  },
  {
   "cell_type": "markdown",
   "id": "e9f753de",
   "metadata": {
    "_kg_hide-output": true,
    "papermill": {
     "duration": 0.042753,
     "end_time": "2022-06-05T06:24:03.600383",
     "exception": false,
     "start_time": "2022-06-05T06:24:03.557630",
     "status": "completed"
    },
    "tags": []
   },
   "source": [
    "**6.3 SVC Classifier**"
   ]
  },
  {
   "cell_type": "code",
   "execution_count": 167,
   "id": "984b2a22",
   "metadata": {
    "execution": {
     "iopub.execute_input": "2022-06-05T06:24:03.688561Z",
     "iopub.status.busy": "2022-06-05T06:24:03.687938Z",
     "iopub.status.idle": "2022-06-05T06:24:03.702039Z",
     "shell.execute_reply": "2022-06-05T06:24:03.700828Z"
    },
    "papermill": {
     "duration": 0.060502,
     "end_time": "2022-06-05T06:24:03.703874",
     "exception": false,
     "start_time": "2022-06-05T06:24:03.643372",
     "status": "completed"
    },
    "tags": []
   },
   "outputs": [
    {
     "name": "stdout",
     "output_type": "stream",
     "text": [
      "Model:  SVC\n",
      "Test Data AUC: 0.984\n"
     ]
    },
    {
     "data": {
      "image/png": "[encoded data removed]",
      "text/plain": [
       "<Figure size 432x288 with 1 Axes>"
      ]
     },
     "metadata": {},
     "output_type": "display_data"
    }
   ],
   "source": [
    "# Train and fit SVC classifier\n",
    "clf_svc = SVC(probability=True)\n",
    "clf_svc.fit(X_train,np.ravel(y_train))\n",
    "y_pred_dct_svc = clf_svc.predict(X_test)\n",
    "\n",
    "#pull the probabilities of having a heart disease\n",
    "y_pred_proba_svc= clf_svc.predict_proba(X_test)[::,1]\n",
    "fpr, tpr, _ = metrics.roc_curve(y_test,  y_pred_proba_svc) \n",
    "auc_svc = metrics.roc_auc_score(y_test, y_pred_proba_svc).round(5) #calculate the area under the curve (AUC)\n",
    "plt.plot(fpr,tpr,label=\"SVC auc=\"+str(auc_svc),color='red') #generate the ROC curve\n",
    "plt.legend(loc=4) #position the label in the bottom right corner\n",
    "\n",
    "print(\"Model: \",type(clf_svc).__name__)\n",
    "print(\"Test Data AUC: %0.3f\" % auc_svc)\n"
   ]
  },
  {
   "cell_type": "code",
   "execution_count": 130,
   "id": "80471d9b",
   "metadata": {},
   "outputs": [
    {
     "name": "stdout",
     "output_type": "stream",
     "text": [
      "0.975609756097561\n"
     ]
    }
   ],
   "source": [
    "\n",
    "#Evaluation \n",
    "from sklearn.metrics import precision_score\n",
    "print(precision_score(y_test,y_pred_dct_svc))"
   ]
  },
  {
   "cell_type": "markdown",
   "id": "74d16766",
   "metadata": {},
   "source": [
    "**6.4 Logistic Regression**"
   ]
  },
  {
   "cell_type": "code",
   "execution_count": 168,
   "id": "0f18a49a",
   "metadata": {},
   "outputs": [
    {
     "name": "stdout",
     "output_type": "stream",
     "text": [
      "Model:  LogisticRegression\n",
      "Test Data AUC: 0.994\n"
     ]
    },
    {
     "data": {
      "image/png": "[encoded data removed]",
      "text/plain": [
       "<Figure size 432x288 with 1 Axes>"
      ]
     },
     "metadata": {},
     "output_type": "display_data"
    }
   ],
   "source": [
    "# Train and fit Decision Tree classifier\n",
    "clf_logistic =LogisticRegression()\n",
    "clf_logistic.fit(X_train,np.ravel(y_train))\n",
    "y_pred_dct_logistic = clf_logistic.predict(X_test)\n",
    "\n",
    "#pull the probabilities of having a heart disease\n",
    "y_pred_proba_logistic= clf_logistic.predict_proba(X_test)[::,1]\n",
    "fpr, tpr, _ = metrics.roc_curve(y_test,  y_pred_proba_logistic) \n",
    "auc_logistic = metrics.roc_auc_score(y_test, y_pred_proba_logistic).round(5) #calculate the area under the curve (AUC)\n",
    "plt.plot(fpr,tpr,label=\"logistic auc=\"+str(auc_logistic),color='red') #generate the ROC curve\n",
    "plt.legend(loc=4) #position the label in the bottom right corner\n",
    "\n",
    "print(\"Model: \",type(clf_logistic).__name__)\n",
    "print(\"Test Data AUC: %0.3f\" % auc_logistic)"
   ]
  },
  {
   "cell_type": "code",
   "execution_count": 151,
   "id": "2f585155",
   "metadata": {},
   "outputs": [
    {
     "name": "stdout",
     "output_type": "stream",
     "text": [
      "0.9183673469387755\n"
     ]
    }
   ],
   "source": [
    "\n",
    "#Evaluation \n",
    "from sklearn.metrics import precision_score\n",
    "print(precision_score(y_test,y_pred_dct_logistic))"
   ]
  },
  {
   "cell_type": "markdown",
   "id": "7e08369f",
   "metadata": {
    "papermill": {
     "duration": 0.042679,
     "end_time": "2022-06-05T06:24:03.788509",
     "exception": false,
     "start_time": "2022-06-05T06:24:03.745830",
     "status": "completed"
    },
    "tags": []
   },
   "source": [
    "**6.5 XG Boost classifier**"
   ]
  },
  {
   "cell_type": "code",
   "execution_count": 169,
   "id": "27571a27",
   "metadata": {
    "execution": {
     "iopub.execute_input": "2022-06-05T06:24:03.876206Z",
     "iopub.status.busy": "2022-06-05T06:24:03.875790Z",
     "iopub.status.idle": "2022-06-05T06:24:04.178031Z",
     "shell.execute_reply": "2022-06-05T06:24:04.177286Z"
    },
    "papermill": {
     "duration": 0.348746,
     "end_time": "2022-06-05T06:24:04.180040",
     "exception": false,
     "start_time": "2022-06-05T06:24:03.831294",
     "status": "completed"
    },
    "tags": []
   },
   "outputs": [
    {
     "name": "stdout",
     "output_type": "stream",
     "text": [
      "Model:  XGBClassifier\n",
      "Test Data AUC: 0.998\n"
     ]
    },
    {
     "data": {
      "image/png": "[encoded data removed]",
      "text/plain": [
       "<Figure size 432x288 with 1 Axes>"
      ]
     },
     "metadata": {},
     "output_type": "display_data"
    }
   ],
   "source": [
    "# Train and fit XGB classifier\n",
    "clf_xgb = xgb.XGBClassifier()\n",
    "clf_xgb.fit(X_train,np.ravel(y_train))\n",
    "y_pred_dct_xgb = clf_xgb.predict(X_test)\n",
    "\n",
    "#pull the probabilities of having a heart disease\n",
    "y_pred_proba_xgb= clf_xgb.predict_proba(X_test)[::,1]\n",
    "fpr, tpr, _ = metrics.roc_curve(y_test,  y_pred_proba_xgb) \n",
    "auc_xgb = metrics.roc_auc_score(y_test, y_pred_proba_xgb).round(5) #calculate the area under the curve (AUC)\n",
    "plt.plot(fpr,tpr,label=\"xgb auc=\"+str(auc_xgb),color='red') #generate the ROC curve\n",
    "plt.legend(loc=4) #position the label in the bottom right corner\n",
    "\n",
    "print(\"Model: \",type(clf_xgb).__name__)\n",
    "print(\"Test Data AUC: %0.3f\" % auc_xgb)"
   ]
  },
  {
   "cell_type": "code",
   "execution_count": 153,
   "id": "35c0075f",
   "metadata": {},
   "outputs": [
    {
     "name": "stdout",
     "output_type": "stream",
     "text": [
      "1.0\n"
     ]
    }
   ],
   "source": [
    "\n",
    "#Evaluation \n",
    "from sklearn.metrics import precision_score\n",
    "print(precision_score(y_test,y_pred_dct_xgb))"
   ]
  },
  {
   "cell_type": "code",
   "execution_count": 170,
   "id": "d4c1ee2d",
   "metadata": {},
   "outputs": [
    {
     "data": {
      "text/plain": [
       "<matplotlib.legend.Legend at 0x7f695d369a60>"
      ]
     },
     "execution_count": 170,
     "metadata": {},
     "output_type": "execute_result"
    },
    {
     "data": {
      "image/png": "[encoded data removed]",
      "text/plain": [
       "<Figure size 432x288 with 1 Axes>"
      ]
     },
     "metadata": {},
     "output_type": "display_data"
    }
   ],
   "source": [
    "rf_model = RandomForestClassifier(max_depth = 1, n_estimators=10)\n",
    "rf_model.fit(X_train,np.ravel(y_train))\n",
    "y_pred_dct_rf = rf_model.predict(X_test)\n",
    "\n",
    "y_pred_proba_rf = rf_model.predict_proba(X_test)[::,1] #pull the probabilities of having a heart disease\n",
    "fpr, tpr, _ = metrics.roc_curve(y_test,  y_pred_proba_rf) #calculate the false positive rate and true positive rate\n",
    "auc = metrics.roc_auc_score(y_test, y_pred_proba_rf).round(5) #calculate the area under the curve (AUC)\n",
    "plt.plot(fpr,tpr,label=\"rf auc=\"+str(auc),color='red') #generate the ROC curve\n",
    "plt.legend(loc=4) #position the label in the bottom right corner"
   ]
  },
  {
   "cell_type": "code",
   "execution_count": 155,
   "id": "705a4f9a",
   "metadata": {},
   "outputs": [
    {
     "name": "stdout",
     "output_type": "stream",
     "text": [
      "0.9767441860465116\n"
     ]
    }
   ],
   "source": [
    "\n",
    "#Evaluation \n",
    "from sklearn.metrics import precision_score\n",
    "print(precision_score(y_test,y_pred_dct_rf))"
   ]
  },
  {
   "cell_type": "markdown",
   "id": "15b9ad5f",
   "metadata": {
    "papermill": {
     "duration": 0.042785,
     "end_time": "2022-06-05T06:24:04.264800",
     "exception": false,
     "start_time": "2022-06-05T06:24:04.222015",
     "status": "completed"
    },
    "tags": []
   },
   "source": [
    "# 7. Model Evaluation"
   ]
  },
  {
   "cell_type": "markdown",
   "id": "edf40fcf",
   "metadata": {
    "papermill": {
     "duration": 0.04275,
     "end_time": "2022-06-05T06:24:04.350585",
     "exception": false,
     "start_time": "2022-06-05T06:24:04.307835",
     "status": "completed"
    },
    "tags": []
   },
   "source": [
    "**7.1 Model Evaluation using K-Fold Cross Validation**"
   ]
  },
  {
   "cell_type": "code",
   "execution_count": 156,
   "id": "6dfaaac3",
   "metadata": {
    "execution": {
     "iopub.execute_input": "2022-06-05T06:24:04.440138Z",
     "iopub.status.busy": "2022-06-05T06:24:04.439183Z",
     "iopub.status.idle": "2022-06-05T06:24:04.446693Z",
     "shell.execute_reply": "2022-06-05T06:24:04.445936Z"
    },
    "papermill": {
     "duration": 0.054764,
     "end_time": "2022-06-05T06:24:04.448765",
     "exception": false,
     "start_time": "2022-06-05T06:24:04.394001",
     "status": "completed"
    },
    "tags": []
   },
   "outputs": [],
   "source": [
    "# Function to fit classifier, perform K-Fold Cross validation print Accuracy score and confusion matrix\n",
    "def model_hypertuning(classifier, params, X_train, y_train,\n",
    "                             X_test, y_test, X = X, y = y):\n",
    "    classifier.set_params(**params)\n",
    "    classifier.fit(X_train,np.ravel(y_train))\n",
    "    y_pred = classifier.predict(X_test)\n",
    "    print(precision_score(y_test,y_pred))\n",
    "    \n",
    "    y_pred_proba = classifier.predict_proba(X_test)[::,1]\n",
    "    fpr, tpr, _ = metrics.roc_curve(y_test,  y_pred_proba)\n",
    "    auc = metrics.roc_auc_score(y_test, y_pred_proba).round(5) \n",
    "    print(\"Model: \",type(classifier).__name__)\n",
    "    print(\"Test Data Accuracy: %0.2f\" % auc)\n",
    "    print(\"K-Fold Cross Validation Accuracy: %0.2f\" % cross_val_score(classifier, X, np.ravel(y), scoring='roc_auc', cv=5).mean())\n",
    "    \n",
    "    cm = confusion_matrix(y_test, y_pred)\n",
    "    \n",
    "    plt.imshow(cm, cmap=plt.cm.Blues)\n",
    "    plt.title(\"Confusion Matrix\")\n",
    "    plt.colorbar()\n",
    "    plt.xlabel(\"Predicted\")\n",
    "    plt.ylabel(\"True\")\n",
    "    plt.xticks([0, 1], ['0', '1'])\n",
    "    plt.yticks([0, 1], ['0', '1'])\n",
    "    \n",
    "    tn, fp, fn, tp = cm.ravel()\n",
    "    plt.text(0, 0, f\"TN = {tn}\", ha='center', va='center', color='white')\n",
    "    plt.text(1, 1, f\"TP = {tp}\", ha='center', va='center', color='white')\n",
    "    plt.text(1, 0, f\"FN = {fn}\", ha='center', va='center', color='black')\n",
    "    plt.text(0, 1, f\"FP = {fp}\", ha='center', va='center', color='black')\n",
    "\n",
    "    plt.grid(False)\n",
    "    plt.show()\n"
   ]
  },
  {
   "cell_type": "markdown",
   "id": "1de638cd",
   "metadata": {
    "papermill": {
     "duration": 0.041796,
     "end_time": "2022-06-05T06:24:04.962149",
     "exception": false,
     "start_time": "2022-06-05T06:24:04.920353",
     "status": "completed"
    },
    "tags": []
   },
   "source": [
    "**7.2 Hyperparameter tuning using RandomizedSearchCV on Decision Tree Classifier**"
   ]
  },
  {
   "cell_type": "raw",
   "id": "bce8abf5",
   "metadata": {},
   "source": [
    "'auto': This option sets max_features to the square root of the total number of features. For example, if there are 16 features, max_features will be set to 4. It allows the algorithm to consider a subset of features at each split, providing randomness and reducing the potential overfitting.\n",
    "\n",
    "'sqrt': Similar to 'auto', this option also sets max_features to the square root of the total number of features.\n",
    "\n",
    "'log2': This option sets max_features to the logarithm base 2 of the total number of features. It is another way to control the subset of features considered at each split, providing randomness and preventing overfitting."
   ]
  },
  {
   "cell_type": "code",
   "execution_count": 157,
   "id": "ade995e8",
   "metadata": {
    "execution": {
     "iopub.execute_input": "2022-06-05T06:24:05.050465Z",
     "iopub.status.busy": "2022-06-05T06:24:05.049745Z",
     "iopub.status.idle": "2022-06-05T06:24:06.964433Z",
     "shell.execute_reply": "2022-06-05T06:24:06.963500Z"
    },
    "papermill": {
     "duration": 1.961345,
     "end_time": "2022-06-05T06:24:06.966463",
     "exception": false,
     "start_time": "2022-06-05T06:24:05.005118",
     "status": "completed"
    },
    "tags": []
   },
   "outputs": [
    {
     "name": "stdout",
     "output_type": "stream",
     "text": [
      "{'min_samples_split': 10, 'max_features': 'sqrt', 'max_depth': 20, 'criterion': 'gini'}\n",
      "0.9090909090909091\n",
      "Model:  DecisionTreeClassifier\n",
      "Test Data Accuracy: 0.93\n",
      "K-Fold Cross Validation Accuracy: 0.94\n"
     ]
    },
    {
     "data": {
      "image/png": "[encoded data removed]",
      "text/plain": [
       "<Figure size 432x288 with 2 Axes>"
      ]
     },
     "metadata": {},
     "output_type": "display_data"
    }
   ],
   "source": [
    "clf_dct = DecisionTreeClassifier(max_depth=2)\n",
    "\n",
    "params = { 'max_depth' : [3,5,10,15,20,25,30,35,40,45,50],\n",
    "          'criterion' : [\"gini\",\"entropy\"],\n",
    "          'max_features' : ['sqrt', 'log2'],\n",
    "          'min_samples_split' : [2,4,6,8,10]\n",
    "         }\n",
    "\n",
    "grid = RandomizedSearchCV(clf_dct, params, n_jobs=-1)\n",
    "grid.fit(X_train, np.ravel(y_train))\n",
    "print(grid.best_params_)\n",
    "model_hypertuning(clf_dct,grid.best_params_,X_train, y_train, \n",
    "                         X_test, y_test)"
   ]
  },
  {
   "cell_type": "markdown",
   "id": "f4fa7254",
   "metadata": {
    "papermill": {
     "duration": 0.042111,
     "end_time": "2022-06-05T06:24:07.051024",
     "exception": false,
     "start_time": "2022-06-05T06:24:07.008913",
     "status": "completed"
    },
    "tags": []
   },
   "source": [
    "**7.3 Hyperparameter tuning using using RandomizedSearchCV on SVC Classifier**"
   ]
  },
  {
   "cell_type": "code",
   "execution_count": 161,
   "id": "50c006aa",
   "metadata": {
    "execution": {
     "iopub.execute_input": "2022-06-05T06:24:07.138145Z",
     "iopub.status.busy": "2022-06-05T06:24:07.137721Z",
     "iopub.status.idle": "2022-06-05T06:24:07.616777Z",
     "shell.execute_reply": "2022-06-05T06:24:07.615782Z"
    },
    "papermill": {
     "duration": 0.525375,
     "end_time": "2022-06-05T06:24:07.618872",
     "exception": false,
     "start_time": "2022-06-05T06:24:07.093497",
     "status": "completed"
    },
    "tags": []
   },
   "outputs": [
    {
     "name": "stdout",
     "output_type": "stream",
     "text": [
      "0.9555555555555556\n",
      "Model:  SVC\n",
      "Test Data Accuracy: 0.99\n",
      "K-Fold Cross Validation Accuracy: 0.97\n"
     ]
    },
    {
     "data": {
      "image/png": "[encoded data removed]",
      "text/plain": [
       "<Figure size 432x288 with 2 Axes>"
      ]
     },
     "metadata": {},
     "output_type": "display_data"
    }
   ],
   "source": [
    "clf_svc = SVC(probability=True)\n",
    "\n",
    "params = { 'kernel' : ['linear','rbf','poly','sigmoid'],\n",
    "          'C' : [0.1,0.5,1,1.5,2,2.5,3,3.5,4,4.5,5,5.5],\n",
    "          'degree' : [1,2,3,4,5,6]\n",
    "         }\n",
    "grid = RandomizedSearchCV(clf_svc, params, n_jobs=-1)\n",
    "grid.fit(X_train_scaled, np.ravel(y_train_scaled))\n",
    "\n",
    "model_hypertuning(clf_svc,grid.best_params_,X_train_scaled, y_train_scaled, X_test_scaled, y_test_scaled)"
   ]
  },
  {
   "cell_type": "markdown",
   "id": "2d04ece6",
   "metadata": {
    "papermill": {
     "duration": 0.042784,
     "end_time": "2022-06-05T06:24:07.704248",
     "exception": false,
     "start_time": "2022-06-05T06:24:07.661464",
     "status": "completed"
    },
    "tags": []
   },
   "source": [
    "**7.4 Hyperparameter tuning using RandomizedSearchCV on Logistic Regression**\n"
   ]
  },
  {
   "cell_type": "code",
   "execution_count": 162,
   "id": "df4841b2",
   "metadata": {
    "execution": {
     "iopub.execute_input": "2022-06-05T06:24:07.791051Z",
     "iopub.status.busy": "2022-06-05T06:24:07.790476Z",
     "iopub.status.idle": "2022-06-05T06:24:16.379421Z",
     "shell.execute_reply": "2022-06-05T06:24:16.378452Z"
    },
    "papermill": {
     "duration": 8.634593,
     "end_time": "2022-06-05T06:24:16.381354",
     "exception": false,
     "start_time": "2022-06-05T06:24:07.746761",
     "status": "completed"
    },
    "tags": []
   },
   "outputs": [
    {
     "name": "stdout",
     "output_type": "stream",
     "text": [
      "{'penalty': 'l2', 'max_iter': 500, 'C': 5.700000000000001}\n",
      "0.92\n",
      "Model:  LogisticRegression\n",
      "Test Data Accuracy: 1.00\n",
      "K-Fold Cross Validation Accuracy: 0.99\n"
     ]
    },
    {
     "data": {
      "image/png": "[encoded data removed]",
      "text/plain": [
       "<Figure size 432x288 with 2 Axes>"
      ]
     },
     "metadata": {},
     "output_type": "display_data"
    }
   ],
   "source": [
    "clf_logistic =LogisticRegression()\n",
    "\n",
    "params = {\n",
    "    'C': np.arange(0.1, 10,0.2),  # Inverse of regularization strength\n",
    "    'penalty': ['l1', 'l2'],\n",
    "    'max_iter': [100, 200, 300,500]  # Maximum number of iterations\n",
    "}\n",
    "grid = RandomizedSearchCV(clf_logistic, params)\n",
    "grid.fit(X_train, np.ravel(y_train))\n",
    "\n",
    "print(grid.best_params_)\n",
    "model_hypertuning(clf_logistic,grid.best_params_,X_train, y_train, \n",
    "                         X_test, y_test)"
   ]
  },
  {
   "cell_type": "markdown",
   "id": "c27e9674",
   "metadata": {},
   "source": [
    "**7.5 Hyperparameter tuning using RandomizedSearchCV on XG Boost Classifier**"
   ]
  },
  {
   "cell_type": "code",
   "execution_count": 163,
   "id": "9e78a72c",
   "metadata": {},
   "outputs": [
    {
     "name": "stdout",
     "output_type": "stream",
     "text": [
      "{'min_child_weight': 5, 'max_depth': 4, 'learning_rate': 0.15, 'gamma': 0.3, 'colsample_bytree': 0.4}\n",
      "0.9782608695652174\n",
      "Model:  XGBClassifier\n",
      "Test Data Accuracy: 1.00\n",
      "K-Fold Cross Validation Accuracy: 0.99\n"
     ]
    },
    {
     "data": {
      "image/png": "[encoded data removed]",
      "text/plain": [
       "<Figure size 432x288 with 2 Axes>"
      ]
     },
     "metadata": {},
     "output_type": "display_data"
    }
   ],
   "source": [
    "clf_xgb = xgb.XGBClassifier()\n",
    "params = { 'learning_rate' : [0.05,0.1,0.15,0.2,0.25,0.3],\n",
    "          'max_depth' : [3,4,5,6,8,10,12,16],\n",
    "          'min_child_weight' : [1,3,5,7],\n",
    "          'gamma' : [0,0.05,0.1,0.15,0.2,0.25,0.3,0.35,0.4],\n",
    "          'colsample_bytree' : [0.3,0.4,0.5,0.6]\n",
    "         }\n",
    "grid = RandomizedSearchCV(clf_xgb, params, n_jobs=-1)\n",
    "grid.fit(X_train, np.ravel(y_train))\n",
    "print(grid.best_params_)\n",
    "\n",
    "model_hypertuning(clf_xgb,grid.best_params_,X_train, y_train, \n",
    "                         X_test, y_test)"
   ]
  },
  {
   "cell_type": "markdown",
   "id": "f951bb45",
   "metadata": {},
   "source": [
    "**7.6 Hyperparameter tuning using RandomizedSearchCV on Random Forest Classifier**"
   ]
  },
  {
   "cell_type": "code",
   "execution_count": 164,
   "id": "872ca422",
   "metadata": {},
   "outputs": [
    {
     "name": "stdout",
     "output_type": "stream",
     "text": [
      "{'n_estimators': 10, 'min_samples_split': 8, 'min_samples_leaf': 3, 'max_depth': 10}\n",
      "0.92\n",
      "Model:  RandomForestClassifier\n",
      "Test Data Accuracy: 1.00\n",
      "K-Fold Cross Validation Accuracy: 0.98\n"
     ]
    },
    {
     "data": {
      "image/png": "[encoded data removed]",
      "text/plain": [
       "<Figure size 432x288 with 2 Axes>"
      ]
     },
     "metadata": {},
     "output_type": "display_data"
    }
   ],
   "source": [
    "rf_model = RandomForestClassifier()\n",
    "param = {\n",
    "    'n_estimators': np.arange(10, 1000,200), # Number of trees in the forest\n",
    "    'max_depth': [None, 5, 10, 20],  # Maximum depth of the tree\n",
    "    'min_samples_split': np.arange(2, 10,2),  # Minimum number of samples required to split an internal node\n",
    "    'min_samples_leaf': np.arange(1, 5,1)  # Minimum number of samples required to be at a leaf node\n",
    "}\n",
    "grid = RandomizedSearchCV(rf_model, param)\n",
    "grid.fit(X_train, np.ravel(y_train))\n",
    "print(grid.best_params_)\n",
    "\n",
    "model_hypertuning(rf_model,grid.best_params_,X_train, y_train, \n",
    "                         X_test, y_test)"
   ]
  },
  {
   "cell_type": "markdown",
   "id": "c1c07678",
   "metadata": {
    "papermill": {
     "duration": 0.042614,
     "end_time": "2022-06-05T06:24:16.467305",
     "exception": false,
     "start_time": "2022-06-05T06:24:16.424691",
     "status": "completed"
    },
    "tags": []
   },
   "source": [
    "\n",
    "* Using Hyperparameter tuning marginally increased the accuracy of all models.\n",
    "\n"
   ]
  }
 ],
 "metadata": {
  "kernelspec": {
   "display_name": "Python 3 (ipykernel)",
   "language": "python",
   "name": "python3"
  },
  "language_info": {
   "codemirror_mode": {
    "name": "ipython",
    "version": 3
   },
   "file_extension": ".py",
   "mimetype": "text/x-python",
   "name": "python",
   "nbconvert_exporter": "python",
   "pygments_lexer": "ipython3",
   "version": "3.9.7"
  },
  "papermill": {
   "default_parameters": {},
   "duration": 55.226835,
   "end_time": "2022-06-05T06:24:19.390371",
   "environment_variables": {},
   "exception": null,
   "input_path": "__notebook__.ipynb",
   "output_path": "__notebook__.ipynb",
   "parameters": {},
   "start_time": "2022-06-05T06:23:24.163536",
   "version": "2.3.4"
  }
 },
 "nbformat": 4,
 "nbformat_minor": 5
}
